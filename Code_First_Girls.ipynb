{
  "nbformat": 4,
  "nbformat_minor": 0,
  "metadata": {
    "colab": {
      "provenance": []
    },
    "kernelspec": {
      "name": "python3",
      "display_name": "Python 3"
    },
    "language_info": {
      "name": "python"
    }
  },
  "cells": [
    {
      "cell_type": "markdown",
      "source": [
        "1. Read the Cocktail DB API documentation ★\n",
        "https://www.thecocktaildb.com/api.php\n",
        "2. Ask the user to enter an ingredient that they want to search for\n",
        "3. Create a function that makes a request to the Edamam API with the required ingredient as part of the search query (also included your Application ID and Application Key\n",
        "4. Get the returned recipes from the API response\n",
        "5. Display the recipes for each search result\n"
      ],
      "metadata": {
        "id": "9zHHfOME00jY"
      }
    },
    {
      "cell_type": "markdown",
      "source": [
        "25/07/24 Updates:\n",
        "1. Ningyuan to-do - Further updates for GitHub version control after this session (depend how far we go during the session)."
      ],
      "metadata": {
        "id": "Tv05jUiV-i9C"
      }
    },
    {
      "cell_type": "code",
      "source": [
        "import requests\n",
        "\n",
        "ingredient = input('What would you like to make your cocktail with? ')\n",
        "\n",
        "url = 'https://www.thecocktaildb.com/api/json/v1/1/filter.php?i={}'.format(ingredient)\n",
        "response = requests.get(url)\n",
        "cocktails = response.json()\n",
        "\n",
        "print(cocktails)\n"
      ],
      "metadata": {
        "id": "dzTjsYv6-lqq"
      },
      "execution_count": null,
      "outputs": []
    },
    {
      "cell_type": "markdown",
      "source": [
        "Common ingredients:\n",
        "Rum: Sugar cane-based spirit\n",
        "\n",
        "1. Whisky: Grain-based aged spirit\n",
        "2. Tequila: Agave based spirit\n",
        "3. Vodka: Any fermentable sugar-based spirit\n",
        "4. Gin: Neutral alcohol-based spirit flavoured with juniper berry & botanicals."
      ],
      "metadata": {
        "id": "fncjNK5vBlzz"
      }
    },
    {
      "cell_type": "code",
      "source": [
        "##1.0 This code takes the name of cocktail ingredients and returns all cocktail names with that ingredient.\n",
        "# gives response when ingredient name is searchable.\n",
        "import requests\n",
        "ingredient = input('What would you like to make your cocktail with? ')\n",
        "url = 'https://www.thecocktaildb.com/api/json/v1/1/filter.php?i={}'.format(ingredient)\n",
        "response = requests.get(url)\n",
        "text = response.json()\n",
        "# print(text)\n",
        "l = len(text[\"drinks\"])\n",
        "for i in range(l):\n",
        "  print(text[\"drinks\"][i]['strDrink'])"
      ],
      "metadata": {
        "id": "qOu9cnlwE3B0",
        "colab": {
          "base_uri": "https://localhost:8080/"
        },
        "outputId": "95c2486b-0288-437e-cad8-496a1d97d50d",
        "collapsed": true
      },
      "execution_count": null,
      "outputs": [
        {
          "output_type": "stream",
          "name": "stdout",
          "text": [
            "What would you like to make your cocktail with? vodka\n",
            "155 Belmont\n",
            "501 Blue\n",
            "57 Chevy with a White License Plate\n",
            "747 Drink\n",
            "A Gilligan's Island\n",
            "A midsummernight dream\n",
            "A.D.M. (After Dinner Mint)\n",
            "Absinthe #2\n",
            "Absolutely Fabulous\n",
            "Adam Bomb\n",
            "Adam Sunrise\n",
            "Addison Special\n",
            "After sex\n",
            "Apricot punch\n",
            "Arctic Fish\n",
            "Arizona Antifreeze\n",
            "Arizona Twister\n",
            "Army special\n",
            "Atlantic Sun\n",
            "Atomic Lokade\n",
            "Autodafé\n",
            "Avalon\n",
            "Aztec Punch\n",
            "Belgian Blue\n",
            "Bellini Martini\n",
            "Black Russian\n",
            "Bloody Mary\n",
            "Bloody Punch\n",
            "Blue Lagoon\n",
            "Blue Mountain\n",
            "Brain Fart\n",
            "Bruised Heart\n",
            "Bubble Gum\n",
            "Caribbean Orange Liqueur\n",
            "Cherry Electric Lemonade\n",
            "Chocolate Black Russian\n",
            "Cosmopolitan\n",
            "Cosmopolitan Martini\n",
            "Dirty Martini\n",
            "Espresso Martini\n",
            "Figgy Thyme\n",
            "Flaming Dr. Pepper\n",
            "Freddy Kruger\n",
            "French Martini\n",
            "Gideon's Green Dinosaur\n",
            "Godchild\n",
            "Godmother\n",
            "Greyhound\n",
            "Harvey Wallbanger\n",
            "Ice Pick\n",
            "Irish Curdling Cow\n",
            "Irish Russian\n",
            "Jello shots\n",
            "Jitterbug\n",
            "Kamikaze\n",
            "Kiwi Martini\n",
            "Kool-Aid Shot\n",
            "Kool-Aid Slammer\n",
            "Lemon Drop\n",
            "Lemon Elderflower Spritzer\n",
            "Long Island Iced Tea\n",
            "Long Island Tea\n",
            "Long vodka\n",
            "Moscow Mule\n",
            "National Aquarium\n",
            "Orange Crush\n",
            "Orange Whip\n",
            "Oreo Mudslide\n",
            "Passion Fruit Martini\n",
            "Pink Panty Pulldowns\n",
            "Pink Penocha\n",
            "Popped cherry\n",
            "Pornstar Martini\n",
            "Radioactive Long Island Iced Tea\n",
            "Russian Spring Punch\n",
            "San Francisco\n",
            "Screaming Orgasm\n",
            "Screwdriver\n",
            "Sea breeze\n",
            "Sex on the Beach\n",
            "Shark Attack\n",
            "Snowday\n",
            "Vesper\n",
            "Victory Collins\n",
            "Vodka And Tonic\n",
            "Vodka Fizz\n",
            "Vodka Lemon\n",
            "Vodka Martini\n",
            "Vodka Russian\n",
            "Vodka Slime\n",
            "Vodka Tonic\n",
            "White Russian\n",
            "Zipperhead\n",
            "Zorbatini\n"
          ]
        }
      ]
    },
    {
      "cell_type": "code",
      "source": [
        "##1.1 This code takes the name of cocktail ingredients and returns all cocktail names with that ingredient.\n",
        "import requests\n",
        "\n",
        "def function():\n",
        "  url = 'https://www.thecocktaildb.com/api/json/v1/1/filter.php?i={}'.format(ingredient)\n",
        "  response = requests.get(url)\n",
        "  text = response.json()\n",
        "\n",
        "  l = len(text[\"drinks\"])\n",
        "  for i in range(l):\n",
        "    print(text[\"drinks\"][i]['strDrink'])\n",
        "\n",
        "ingredient = input('What would you like to make your cocktail with? ')\n",
        "url = 'https://www.thecocktaildb.com/api/json/v1/1/filter.php?i={}'.format(ingredient)\n",
        "\n",
        "try:\n",
        "  response = requests.get(url)\n",
        "  text = response.json()\n",
        "\n",
        "\n",
        "  l = len(text[\"drinks\"])\n",
        "  for i in range(l):\n",
        "    print(text[\"drinks\"][i]['strDrink'])\n",
        "\n",
        "except:\n",
        "    ingredient = input(\"Please choose a different ingredient. \")\n",
        "    function()\n",
        "\n",
        "\n"
      ],
      "metadata": {
        "colab": {
          "base_uri": "https://localhost:8080/"
        },
        "id": "7YhYi1NtP5lr",
        "outputId": "0527558a-7b20-4bed-b116-ca29f349805a",
        "collapsed": true
      },
      "execution_count": null,
      "outputs": [
        {
          "output_type": "stream",
          "name": "stdout",
          "text": [
            "What would you like to make your cocktail with? vodka\n",
            "155 Belmont\n",
            "501 Blue\n",
            "57 Chevy with a White License Plate\n",
            "747 Drink\n",
            "A Gilligan's Island\n",
            "A midsummernight dream\n",
            "A.D.M. (After Dinner Mint)\n",
            "Absinthe #2\n",
            "Absolutely Fabulous\n",
            "Adam Bomb\n",
            "Adam Sunrise\n",
            "Addison Special\n",
            "After sex\n",
            "Apricot punch\n",
            "Arctic Fish\n",
            "Arizona Antifreeze\n",
            "Arizona Twister\n",
            "Army special\n",
            "Atlantic Sun\n",
            "Atomic Lokade\n",
            "Autodafé\n",
            "Avalon\n",
            "Aztec Punch\n",
            "Belgian Blue\n",
            "Bellini Martini\n",
            "Black Russian\n",
            "Bloody Mary\n",
            "Bloody Punch\n",
            "Blue Lagoon\n",
            "Blue Mountain\n",
            "Brain Fart\n",
            "Bruised Heart\n",
            "Bubble Gum\n",
            "Caribbean Orange Liqueur\n",
            "Cherry Electric Lemonade\n",
            "Chocolate Black Russian\n",
            "Cosmopolitan\n",
            "Cosmopolitan Martini\n",
            "Dirty Martini\n",
            "Espresso Martini\n",
            "Figgy Thyme\n",
            "Flaming Dr. Pepper\n",
            "Freddy Kruger\n",
            "French Martini\n",
            "Gideon's Green Dinosaur\n",
            "Godchild\n",
            "Godmother\n",
            "Greyhound\n",
            "Harvey Wallbanger\n",
            "Ice Pick\n",
            "Irish Curdling Cow\n",
            "Irish Russian\n",
            "Jello shots\n",
            "Jitterbug\n",
            "Kamikaze\n",
            "Kiwi Martini\n",
            "Kool-Aid Shot\n",
            "Kool-Aid Slammer\n",
            "Lemon Drop\n",
            "Lemon Elderflower Spritzer\n",
            "Long Island Iced Tea\n",
            "Long Island Tea\n",
            "Long vodka\n",
            "Moscow Mule\n",
            "National Aquarium\n",
            "Orange Crush\n",
            "Orange Whip\n",
            "Oreo Mudslide\n",
            "Passion Fruit Martini\n",
            "Pink Panty Pulldowns\n",
            "Pink Penocha\n",
            "Popped cherry\n",
            "Pornstar Martini\n",
            "Radioactive Long Island Iced Tea\n",
            "Russian Spring Punch\n",
            "San Francisco\n",
            "Screaming Orgasm\n",
            "Screwdriver\n",
            "Sea breeze\n",
            "Sex on the Beach\n",
            "Shark Attack\n",
            "Snowday\n",
            "Vesper\n",
            "Victory Collins\n",
            "Vodka And Tonic\n",
            "Vodka Fizz\n",
            "Vodka Lemon\n",
            "Vodka Martini\n",
            "Vodka Russian\n",
            "Vodka Slime\n",
            "Vodka Tonic\n",
            "White Russian\n",
            "Zipperhead\n",
            "Zorbatini\n"
          ]
        }
      ]
    },
    {
      "cell_type": "code",
      "source": [
        "##1.2 (Tim First solution) This code takes the name of cocktail ingredients and returns all cocktail names with that ingredient.\n",
        "# doesnt work\n",
        "import requests\n",
        "# import sys\n",
        "ingredient = input('What would you like to make your cocktail with? ')\n",
        "url = 'https://www.thecocktaildb.com/api/json/v1/1/filter.php?i={}'.format(ingredient)\n",
        "response = requests.get(url)\n",
        "\n",
        "if not response:\n",
        "  print(\"Wrong name.\")\n",
        "else:\n",
        "  text = response.json()\n",
        "  print(text[\"drinks\"][0])"
      ],
      "metadata": {
        "colab": {
          "base_uri": "https://localhost:8080/",
          "height": 449
        },
        "id": "xJdoIWLpRPkd",
        "outputId": "fb9492a9-0dbb-4d54-dbb6-7837b218e219",
        "collapsed": true
      },
      "execution_count": null,
      "outputs": [
        {
          "name": "stdout",
          "output_type": "stream",
          "text": [
            "What would you like to make your cocktail with? v\n"
          ]
        },
        {
          "output_type": "error",
          "ename": "JSONDecodeError",
          "evalue": "Expecting value: line 1 column 1 (char 0)",
          "traceback": [
            "\u001b[0;31m---------------------------------------------------------------------------\u001b[0m",
            "\u001b[0;31mJSONDecodeError\u001b[0m                           Traceback (most recent call last)",
            "\u001b[0;32m/usr/local/lib/python3.10/dist-packages/requests/models.py\u001b[0m in \u001b[0;36mjson\u001b[0;34m(self, **kwargs)\u001b[0m\n\u001b[1;32m    970\u001b[0m         \u001b[0;32mtry\u001b[0m\u001b[0;34m:\u001b[0m\u001b[0;34m\u001b[0m\u001b[0;34m\u001b[0m\u001b[0m\n\u001b[0;32m--> 971\u001b[0;31m             \u001b[0;32mreturn\u001b[0m \u001b[0mcomplexjson\u001b[0m\u001b[0;34m.\u001b[0m\u001b[0mloads\u001b[0m\u001b[0;34m(\u001b[0m\u001b[0mself\u001b[0m\u001b[0;34m.\u001b[0m\u001b[0mtext\u001b[0m\u001b[0;34m,\u001b[0m \u001b[0;34m**\u001b[0m\u001b[0mkwargs\u001b[0m\u001b[0;34m)\u001b[0m\u001b[0;34m\u001b[0m\u001b[0;34m\u001b[0m\u001b[0m\n\u001b[0m\u001b[1;32m    972\u001b[0m         \u001b[0;32mexcept\u001b[0m \u001b[0mJSONDecodeError\u001b[0m \u001b[0;32mas\u001b[0m \u001b[0me\u001b[0m\u001b[0;34m:\u001b[0m\u001b[0;34m\u001b[0m\u001b[0;34m\u001b[0m\u001b[0m\n",
            "\u001b[0;32m/usr/lib/python3.10/json/__init__.py\u001b[0m in \u001b[0;36mloads\u001b[0;34m(s, cls, object_hook, parse_float, parse_int, parse_constant, object_pairs_hook, **kw)\u001b[0m\n\u001b[1;32m    345\u001b[0m             parse_constant is None and object_pairs_hook is None and not kw):\n\u001b[0;32m--> 346\u001b[0;31m         \u001b[0;32mreturn\u001b[0m \u001b[0m_default_decoder\u001b[0m\u001b[0;34m.\u001b[0m\u001b[0mdecode\u001b[0m\u001b[0;34m(\u001b[0m\u001b[0ms\u001b[0m\u001b[0;34m)\u001b[0m\u001b[0;34m\u001b[0m\u001b[0;34m\u001b[0m\u001b[0m\n\u001b[0m\u001b[1;32m    347\u001b[0m     \u001b[0;32mif\u001b[0m \u001b[0mcls\u001b[0m \u001b[0;32mis\u001b[0m \u001b[0;32mNone\u001b[0m\u001b[0;34m:\u001b[0m\u001b[0;34m\u001b[0m\u001b[0;34m\u001b[0m\u001b[0m\n",
            "\u001b[0;32m/usr/lib/python3.10/json/decoder.py\u001b[0m in \u001b[0;36mdecode\u001b[0;34m(self, s, _w)\u001b[0m\n\u001b[1;32m    336\u001b[0m         \"\"\"\n\u001b[0;32m--> 337\u001b[0;31m         \u001b[0mobj\u001b[0m\u001b[0;34m,\u001b[0m \u001b[0mend\u001b[0m \u001b[0;34m=\u001b[0m \u001b[0mself\u001b[0m\u001b[0;34m.\u001b[0m\u001b[0mraw_decode\u001b[0m\u001b[0;34m(\u001b[0m\u001b[0ms\u001b[0m\u001b[0;34m,\u001b[0m \u001b[0midx\u001b[0m\u001b[0;34m=\u001b[0m\u001b[0m_w\u001b[0m\u001b[0;34m(\u001b[0m\u001b[0ms\u001b[0m\u001b[0;34m,\u001b[0m \u001b[0;36m0\u001b[0m\u001b[0;34m)\u001b[0m\u001b[0;34m.\u001b[0m\u001b[0mend\u001b[0m\u001b[0;34m(\u001b[0m\u001b[0;34m)\u001b[0m\u001b[0;34m)\u001b[0m\u001b[0;34m\u001b[0m\u001b[0;34m\u001b[0m\u001b[0m\n\u001b[0m\u001b[1;32m    338\u001b[0m         \u001b[0mend\u001b[0m \u001b[0;34m=\u001b[0m \u001b[0m_w\u001b[0m\u001b[0;34m(\u001b[0m\u001b[0ms\u001b[0m\u001b[0;34m,\u001b[0m \u001b[0mend\u001b[0m\u001b[0;34m)\u001b[0m\u001b[0;34m.\u001b[0m\u001b[0mend\u001b[0m\u001b[0;34m(\u001b[0m\u001b[0;34m)\u001b[0m\u001b[0;34m\u001b[0m\u001b[0;34m\u001b[0m\u001b[0m\n",
            "\u001b[0;32m/usr/lib/python3.10/json/decoder.py\u001b[0m in \u001b[0;36mraw_decode\u001b[0;34m(self, s, idx)\u001b[0m\n\u001b[1;32m    354\u001b[0m         \u001b[0;32mexcept\u001b[0m \u001b[0mStopIteration\u001b[0m \u001b[0;32mas\u001b[0m \u001b[0merr\u001b[0m\u001b[0;34m:\u001b[0m\u001b[0;34m\u001b[0m\u001b[0;34m\u001b[0m\u001b[0m\n\u001b[0;32m--> 355\u001b[0;31m             \u001b[0;32mraise\u001b[0m \u001b[0mJSONDecodeError\u001b[0m\u001b[0;34m(\u001b[0m\u001b[0;34m\"Expecting value\"\u001b[0m\u001b[0;34m,\u001b[0m \u001b[0ms\u001b[0m\u001b[0;34m,\u001b[0m \u001b[0merr\u001b[0m\u001b[0;34m.\u001b[0m\u001b[0mvalue\u001b[0m\u001b[0;34m)\u001b[0m \u001b[0;32mfrom\u001b[0m \u001b[0;32mNone\u001b[0m\u001b[0;34m\u001b[0m\u001b[0;34m\u001b[0m\u001b[0m\n\u001b[0m\u001b[1;32m    356\u001b[0m         \u001b[0;32mreturn\u001b[0m \u001b[0mobj\u001b[0m\u001b[0;34m,\u001b[0m \u001b[0mend\u001b[0m\u001b[0;34m\u001b[0m\u001b[0;34m\u001b[0m\u001b[0m\n",
            "\u001b[0;31mJSONDecodeError\u001b[0m: Expecting value: line 1 column 1 (char 0)",
            "\nDuring handling of the above exception, another exception occurred:\n",
            "\u001b[0;31mJSONDecodeError\u001b[0m                           Traceback (most recent call last)",
            "\u001b[0;32m<ipython-input-3-7f8b526cb8fc>\u001b[0m in \u001b[0;36m<cell line: 9>\u001b[0;34m()\u001b[0m\n\u001b[1;32m     10\u001b[0m   \u001b[0mprint\u001b[0m\u001b[0;34m(\u001b[0m\u001b[0;34m\"Wrong name.\"\u001b[0m\u001b[0;34m)\u001b[0m\u001b[0;34m\u001b[0m\u001b[0;34m\u001b[0m\u001b[0m\n\u001b[1;32m     11\u001b[0m \u001b[0;32melse\u001b[0m\u001b[0;34m:\u001b[0m\u001b[0;34m\u001b[0m\u001b[0;34m\u001b[0m\u001b[0m\n\u001b[0;32m---> 12\u001b[0;31m   \u001b[0mtext\u001b[0m \u001b[0;34m=\u001b[0m \u001b[0mresponse\u001b[0m\u001b[0;34m.\u001b[0m\u001b[0mjson\u001b[0m\u001b[0;34m(\u001b[0m\u001b[0;34m)\u001b[0m\u001b[0;34m\u001b[0m\u001b[0;34m\u001b[0m\u001b[0m\n\u001b[0m\u001b[1;32m     13\u001b[0m   \u001b[0mprint\u001b[0m\u001b[0;34m(\u001b[0m\u001b[0mtext\u001b[0m\u001b[0;34m[\u001b[0m\u001b[0;34m\"drinks\"\u001b[0m\u001b[0;34m]\u001b[0m\u001b[0;34m[\u001b[0m\u001b[0;36m0\u001b[0m\u001b[0;34m]\u001b[0m\u001b[0;34m)\u001b[0m\u001b[0;34m\u001b[0m\u001b[0;34m\u001b[0m\u001b[0m\n",
            "\u001b[0;32m/usr/local/lib/python3.10/dist-packages/requests/models.py\u001b[0m in \u001b[0;36mjson\u001b[0;34m(self, **kwargs)\u001b[0m\n\u001b[1;32m    973\u001b[0m             \u001b[0;31m# Catch JSON-related errors and raise as requests.JSONDecodeError\u001b[0m\u001b[0;34m\u001b[0m\u001b[0;34m\u001b[0m\u001b[0m\n\u001b[1;32m    974\u001b[0m             \u001b[0;31m# This aliases json.JSONDecodeError and simplejson.JSONDecodeError\u001b[0m\u001b[0;34m\u001b[0m\u001b[0;34m\u001b[0m\u001b[0m\n\u001b[0;32m--> 975\u001b[0;31m             \u001b[0;32mraise\u001b[0m \u001b[0mRequestsJSONDecodeError\u001b[0m\u001b[0;34m(\u001b[0m\u001b[0me\u001b[0m\u001b[0;34m.\u001b[0m\u001b[0mmsg\u001b[0m\u001b[0;34m,\u001b[0m \u001b[0me\u001b[0m\u001b[0;34m.\u001b[0m\u001b[0mdoc\u001b[0m\u001b[0;34m,\u001b[0m \u001b[0me\u001b[0m\u001b[0;34m.\u001b[0m\u001b[0mpos\u001b[0m\u001b[0;34m)\u001b[0m\u001b[0;34m\u001b[0m\u001b[0;34m\u001b[0m\u001b[0m\n\u001b[0m\u001b[1;32m    976\u001b[0m \u001b[0;34m\u001b[0m\u001b[0m\n\u001b[1;32m    977\u001b[0m     \u001b[0;34m@\u001b[0m\u001b[0mproperty\u001b[0m\u001b[0;34m\u001b[0m\u001b[0;34m\u001b[0m\u001b[0m\n",
            "\u001b[0;31mJSONDecodeError\u001b[0m: Expecting value: line 1 column 1 (char 0)"
          ]
        }
      ]
    },
    {
      "cell_type": "code",
      "source": [
        "##1.3.1 This code takes the name of cocktail ingredients and returns all cocktail names with that ingredient.\n",
        "# gives response when ingredient name is searchable; ask again when the ingredient name is not found.\n",
        "#(Ningyuan Updated)\n",
        "import requests\n",
        "ingredient = input(\"What cocktail ingredient do your want to search? \")\n",
        "url = 'https://www.thecocktaildb.com/api/json/v1/1/filter.php?i={}'.format(ingredient)\n",
        "if_continue = True\n",
        "while if_continue:\n",
        "    try:\n",
        "        response = requests.get(url)\n",
        "        text = response.json() #Error can occur here for wrong names\n",
        "        if_continue = False\n",
        "        print(\"Cocktails with that ingredient: \")\n",
        "        l = len(text[\"drinks\"])\n",
        "        for i in range(l):\n",
        "            print(text[\"drinks\"][i]['strDrink'])\n",
        "    except:\n",
        "        print(\"Cocktail ingredient not found.\")\n",
        "        ingredient = input(\"What other cocktail ingredient do your want to search? \")\n",
        "        url = 'https://www.thecocktaildb.com/api/json/v1/1/filter.php?i={}'.format(ingredient)\n",
        "        if_continue = True"
      ],
      "metadata": {
        "colab": {
          "base_uri": "https://localhost:8080/"
        },
        "id": "zyVyGGsmuhuP",
        "outputId": "0b14456a-7a9a-48f7-dc36-4b20d7887a81",
        "collapsed": true
      },
      "execution_count": null,
      "outputs": [
        {
          "output_type": "stream",
          "name": "stdout",
          "text": [
            "What cocktail ingredient your want to search? v\n",
            "Cocktail ingredient not found.\n",
            "What other cocktail ingredient your want to search? v\n",
            "Cocktail ingredient not found.\n",
            "What other cocktail ingredient your want to search? vodka\n",
            "Cocktails with that ingredient: \n",
            "155 Belmont\n",
            "501 Blue\n",
            "57 Chevy with a White License Plate\n",
            "747 Drink\n",
            "A Gilligan's Island\n",
            "A midsummernight dream\n",
            "A.D.M. (After Dinner Mint)\n",
            "Absinthe #2\n",
            "Absolutely Fabulous\n",
            "Adam Bomb\n",
            "Adam Sunrise\n",
            "Addison Special\n",
            "After sex\n",
            "Apricot punch\n",
            "Arctic Fish\n",
            "Arizona Antifreeze\n",
            "Arizona Twister\n",
            "Army special\n",
            "Atlantic Sun\n",
            "Atomic Lokade\n",
            "Autodafé\n",
            "Avalon\n",
            "Aztec Punch\n",
            "Belgian Blue\n",
            "Bellini Martini\n",
            "Black Russian\n",
            "Bloody Mary\n",
            "Bloody Punch\n",
            "Blue Lagoon\n",
            "Blue Mountain\n",
            "Brain Fart\n",
            "Bruised Heart\n",
            "Bubble Gum\n",
            "Caribbean Orange Liqueur\n",
            "Cherry Electric Lemonade\n",
            "Chocolate Black Russian\n",
            "Cosmopolitan\n",
            "Cosmopolitan Martini\n",
            "Dirty Martini\n",
            "Espresso Martini\n",
            "Figgy Thyme\n",
            "Flaming Dr. Pepper\n",
            "Freddy Kruger\n",
            "French Martini\n",
            "Gideon's Green Dinosaur\n",
            "Godchild\n",
            "Godmother\n",
            "Greyhound\n",
            "Harvey Wallbanger\n",
            "Ice Pick\n",
            "Irish Curdling Cow\n",
            "Irish Russian\n",
            "Jello shots\n",
            "Jitterbug\n",
            "Kamikaze\n",
            "Kiwi Martini\n",
            "Kool-Aid Shot\n",
            "Kool-Aid Slammer\n",
            "Lemon Drop\n",
            "Lemon Elderflower Spritzer\n",
            "Long Island Iced Tea\n",
            "Long Island Tea\n",
            "Long vodka\n",
            "Moscow Mule\n",
            "National Aquarium\n",
            "Orange Crush\n",
            "Orange Whip\n",
            "Oreo Mudslide\n",
            "Passion Fruit Martini\n",
            "Pink Panty Pulldowns\n",
            "Pink Penocha\n",
            "Popped cherry\n",
            "Pornstar Martini\n",
            "Radioactive Long Island Iced Tea\n",
            "Russian Spring Punch\n",
            "San Francisco\n",
            "Screaming Orgasm\n",
            "Screwdriver\n",
            "Sea breeze\n",
            "Sex on the Beach\n",
            "Shark Attack\n",
            "Snowday\n",
            "Vesper\n",
            "Victory Collins\n",
            "Vodka And Tonic\n",
            "Vodka Fizz\n",
            "Vodka Lemon\n",
            "Vodka Martini\n",
            "Vodka Russian\n",
            "Vodka Slime\n",
            "Vodka Tonic\n",
            "White Russian\n",
            "Zipperhead\n",
            "Zorbatini\n"
          ]
        }
      ]
    },
    {
      "cell_type": "code",
      "source": [
        "##1.3.2 This code takes the name of cocktail ingredients and returns all cocktail names with that ingredient;\n",
        "#and it uses the idea of 1.5, where an unknown error can also be detected and returned.\n",
        "# gives response when ingredient name is searchable; ask again when the ingredient name is not found.\n",
        "#(Ningyuan Updated)\n",
        "import requests\n",
        "import sys\n",
        "import json\n",
        "ingredient = input(\"What cocktail ingredient do your want to search? \")\n",
        "url = 'https://www.thecocktaildb.com/api/json/v1/1/filter.php?i={}'.format(ingredient)\n",
        "if_continue = True\n",
        "while if_continue:\n",
        "    try:\n",
        "        response = requests.get(url)\n",
        "        text = response.json() #Error (JSONDecodeError) can occur here for wrong names\n",
        "        # sys.exit() #this line causes error.\n",
        "        if_continue = False\n",
        "        print(\"Cocktails with that ingredient: \")\n",
        "        l = len(text[\"drinks\"])\n",
        "        for i in range(l):\n",
        "            print(text[\"drinks\"][i]['strDrink'])\n",
        "    # except json.decoder.JSONDecodeError as e:\n",
        "    #     print(\"No drinks found for this ingredient.\")\n",
        "    #     # sys.exit() #this line causes error.\n",
        "    #     ingredient = input(\"What other cocktail ingredient do your want to search? \")\n",
        "    #     url = 'https://www.thecocktaildb.com/api/json/v1/1/filter.php?i={}'.format(ingredient)\n",
        "    #     if_continue = True\n",
        "    except Exception as e:\n",
        "        print(\"No drinks returned. Error: {}\".format(e))\n",
        "        # sys.exit() #this line causes error.\n",
        "        ingredient = input(\"What other cocktail ingredient do your want to search? \")\n",
        "        url = 'https://www.thecocktaildb.com/api/json/v1/1/filter.php?i={}'.format(ingredient)\n",
        "        if_continue = True"
      ],
      "metadata": {
        "colab": {
          "base_uri": "https://localhost:8080/"
        },
        "id": "D8LtaeCo-bSl",
        "outputId": "696f1fc9-35d6-4351-81e8-ab387adc830d"
      },
      "execution_count": null,
      "outputs": [
        {
          "output_type": "stream",
          "name": "stdout",
          "text": [
            "What cocktail ingredient do your want to search? v\n",
            "No drinks returned. Error: Expecting value: line 1 column 1 (char 0)\n",
            "What other cocktail ingredient do your want to search? orange\n",
            "Cocktails with that ingredient: \n",
            "Abbey Cocktail\n",
            "Bleeding Surgeon\n",
            "Caribbean Orange Liqueur\n",
            "Mango Orange Smoothie\n"
          ]
        }
      ]
    },
    {
      "cell_type": "code",
      "source": [
        "###1.4 This code asks for the ingredient and returns cocktail list even if a wrong ingredient was entered\n",
        "import requests\n",
        "\n",
        "ingredient = input('What would you like to make your cocktail with? ')\n",
        "url = 'https://www.thecocktaildb.com/api/json/v1/1/filter.php?i={}'.format(ingredient)\n",
        "response = requests.get(url)\n",
        "string = response.text\n",
        "\n",
        "\n",
        "while len(string) == 0:\n",
        "    ingredient = input('Please choose a different ingredient? ')\n",
        "    url = 'https://www.thecocktaildb.com/api/json/v1/1/filter.php?i={}'.format(ingredient)\n",
        "    response = requests.get(url)\n",
        "    string = response.text\n",
        "\n",
        "text = response.json()\n",
        "\n",
        "l = len(text[\"drinks\"])\n",
        "for i in range(l):\n",
        "  print(text[\"drinks\"][i]['strDrink'])"
      ],
      "metadata": {
        "id": "JumxYoMPIiBQ",
        "colab": {
          "base_uri": "https://localhost:8080/"
        },
        "outputId": "f233adf1-9866-49d9-cb8d-062a2374bef0"
      },
      "execution_count": null,
      "outputs": [
        {
          "output_type": "stream",
          "name": "stdout",
          "text": [
            "What would you like to make your cocktail with? cherry\n",
            "Please choose a different ingredient? egg white\n",
            "Almeria\n",
            "Captain Kidd's Punch\n"
          ]
        }
      ]
    },
    {
      "cell_type": "code",
      "source": [
        "#1.5 (Tim second solution)\n",
        "import requests\n",
        "import json\n",
        "import sys\n",
        "\n",
        "ingredient = input(\"Enter an ingredient: \")\n",
        "url = \"https://www.thecocktaildb.com/api/json/v1/1/filter.php?i={}\".format(ingredient)\n",
        "response = requests.get(url)\n",
        "\n",
        "try:\n",
        "    response_data = response.json()\n",
        "except json.decoder.JSONDecodeError as e:\n",
        "    print(\"No drinks found for this ingredient.\")\n",
        "    sys.exit() #this line causes error.\n",
        "except Exception as e:\n",
        "    print(\"An unexpected error occurred: {}\".format(e))\n",
        "    sys.exit() #this line causes error."
      ],
      "metadata": {
        "colab": {
          "base_uri": "https://localhost:8080/"
        },
        "id": "4_0fH5syEWoX",
        "outputId": "4cc1bb16-cf1a-4581-dd83-8530258edbe4"
      },
      "execution_count": null,
      "outputs": [
        {
          "output_type": "stream",
          "name": "stdout",
          "text": [
            "Enter an ingredient: v\n",
            "No drinks found for this ingredient.\n"
          ]
        }
      ]
    },
    {
      "cell_type": "code",
      "source": [
        "##2 This takes the name of cocktail and returns the instructions to make it.\n",
        "import requests\n",
        "name = input('What cocktail would you like to search for instructions? ')\n",
        "url = 'https://www.thecocktaildb.com/api/json/v1/1/search.php?s={}'.format(name)\n",
        "response = requests.get(url)\n",
        "text = response.json()\n",
        "print(text[\"drinks\"][0]['strInstructions'])"
      ],
      "metadata": {
        "id": "J_3PLG4cG2c2"
      },
      "execution_count": null,
      "outputs": []
    },
    {
      "cell_type": "code",
      "source": [
        "##3 This takes the name of cocktail and returns the ingredients to make it.\n",
        "import requests\n",
        "name = input('What cocktail would you like to search for recipe? ')\n",
        "url = 'https://www.thecocktaildb.com/api/json/v1/1/search.php?s={}'.format(name)\n",
        "response = requests.get(url)\n",
        "text = response.json()\n",
        "item = text[\"drinks\"][0]\n",
        "for index in item:\n",
        "  if 'strIngredient' in index:\n",
        "    if item[index]:\n",
        "       print(item[index])"
      ],
      "metadata": {
        "colab": {
          "base_uri": "https://localhost:8080/"
        },
        "id": "yV3mLwgIJZ9_",
        "outputId": "7ca7fa2c-c583-421d-8488-3a56c991688b"
      },
      "execution_count": null,
      "outputs": [
        {
          "output_type": "stream",
          "name": "stdout",
          "text": [
            "What cocktail would you like to search for recipe? Iced coffee\n",
            "Coffee\n",
            "Sugar\n",
            "Water\n",
            "Milk\n"
          ]
        }
      ]
    },
    {
      "cell_type": "code",
      "source": [
        "##4 This code combines code 2 and 3.\n",
        "import requests\n",
        "name = input('What cocktail would you like to search for recipe? ')\n",
        "url = 'https://www.thecocktaildb.com/api/json/v1/1/search.php?s={}'.format(name)\n",
        "response = requests.get(url)\n",
        "text = response.json()\n",
        "# Ingredients\n",
        "item = text[\"drinks\"][0]\n",
        "print('Ingredients: ')\n",
        "for index in item:\n",
        "  if 'strIngredient' in index:\n",
        "    if item[index]:\n",
        "       print(item[index])\n",
        "# Instructions\n",
        "print('Instructions: ')\n",
        "print(text[\"drinks\"][0]['strInstructions'])"
      ],
      "metadata": {
        "colab": {
          "base_uri": "https://localhost:8080/"
        },
        "id": "tBJDTRDqKy8L",
        "outputId": "f7a62802-9914-426f-9604-290840e5bad3"
      },
      "execution_count": null,
      "outputs": [
        {
          "output_type": "stream",
          "name": "stdout",
          "text": [
            "What cocktail would you like to search for recipe? Iced coffee\n",
            "Ingredients: \n",
            "Coffee\n",
            "Sugar\n",
            "Water\n",
            "Milk\n",
            "Instructions: \n",
            "Mix together until coffee and sugar is dissolved. Add milk. Shake well. Using a blender or milk shake maker produces a very foamy drink. Serve in coffee mug.\n"
          ]
        }
      ]
    },
    {
      "cell_type": "markdown",
      "source": [
        "Ola all code together\n",
        "\n"
      ],
      "metadata": {
        "id": "NZIxs2fDE2jM"
      }
    },
    {
      "cell_type": "markdown",
      "source": [
        "Ideas: (In a separate documents by Alex)\n",
        "1. search for names firstly\n",
        "2. use names to search for recipes\n",
        "3. commends: while/def/for"
      ],
      "metadata": {
        "id": "lX2sOZN_V4rh"
      }
    },
    {
      "cell_type": "code",
      "source": [
        "import requests\n",
        "import sys\n",
        "import time\n",
        "\n",
        "#1. getting list of cocktails with the choosen ingredient\n",
        "def search_ingredient():\n",
        "    ingredient = input('What would you like to make your cocktail with? ')\n",
        "    url = 'https://www.thecocktaildb.com/api/json/v1/1/filter.php?i={}'.format(ingredient)\n",
        "    response = requests.get(url)\n",
        "    string = response.text\n",
        "\n",
        "\n",
        "    while len(string) == 0:\n",
        "        ingredient = input('Please choose a different ingredient? ')\n",
        "        url = 'https://www.thecocktaildb.com/api/json/v1/1/filter.php?i={}'.format(ingredient)\n",
        "        response = requests.get(url)\n",
        "        string = response.text\n",
        "\n",
        "    text = response.json()\n",
        "\n",
        "    l = len(text[\"drinks\"])\n",
        "    cocktails = [\n",
        "\n",
        "    ]\n",
        "\n",
        "    for i in range(l):\n",
        "        cocktail = text[\"drinks\"][i]['strDrink']\n",
        "        cocktails.append(cocktail)\n",
        "        print(cocktail)\n",
        "\n",
        "    return cocktails\n",
        "\n",
        "#2. getting the recipe\n",
        "def recipe():\n",
        "    name = input('Which cocktail would you like to see the recipe for? ')\n",
        "\n",
        "    while name not in cocktails:\n",
        "        name = input('Please check if you spelled it correctly. ' )\n",
        "\n",
        "    Languages = {'English' : '',\n",
        "                 'Spanish' : 'ES',\n",
        "                 'German' : 'DE',\n",
        "                 'French' : 'FR',\n",
        "                 'Italian' : 'IT'\n",
        "                 }\n",
        "    index_list = list(Languages.keys())\n",
        "\n",
        "    language = input('What language would you like for the instructions to be written in? English/Spanish/German/French/Italian ')\n",
        "\n",
        "    while language not in index_list:\n",
        "        language = input('Please check if you spelled it correctly. ' )\n",
        "\n",
        "    url = 'https://www.thecocktaildb.com/api/json/v1/1/search.php?s={}'.format(name)\n",
        "    response = requests.get(url)\n",
        "    text = response.json()\n",
        "\n",
        "\n",
        "    item = text[\"drinks\"][0]\n",
        "    print('Ingredients: ')\n",
        "    for index in item:\n",
        "      if 'strIngredient' in index:\n",
        "        if item[index]:\n",
        "           print(item[index])\n",
        "           time.sleep(0.5)\n",
        "\n",
        "    # Instructions\n",
        "    print('Instructions: ')\n",
        "    time.sleep(0.5)\n",
        "    instruction = text[\"drinks\"][0]['strInstructions{}'.format(Languages[language])]\n",
        "\n",
        "    if not instruction:\n",
        "        print('(Sorry we do not have instructions in your choosen language, we will give them in english)')\n",
        "        instruction = text[\"drinks\"][0]['strInstructions']\n",
        "\n",
        "    print(instruction)\n",
        "    time.sleep(0.5)\n",
        "\n",
        "    saving = input('Would you like to save the recipie into a text file? Answer \"Y\" to save. ')\n",
        "\n",
        "#saving into a text file\n",
        "    if saving == 'Y' or saving == 'y':\n",
        "        with open('cocktails_recipies.txt', 'a') as txt_file:\n",
        "            txt_file.write('\\n{} \\n Ingredients:\\n'.format(name))\n",
        "            for index in item:\n",
        "                if 'strIngredient' in index:\n",
        "                    if item[index]:\n",
        "                        txt_file.write('{} \\n'.format(item[index]))\n",
        "\n",
        "            txt_file.write('Instructions: \\n {} \\n'.format(text[\"drinks\"][0]['strInstructions']))\n",
        "\n",
        "\n",
        "continue1 = ''\n",
        "\n",
        "while continue1 != 'N':\n",
        "    cocktails = search_ingredient()\n",
        "    continue2 = ''\n",
        "    while continue2 != 'N':\n",
        "        recipe()\n",
        "        continue2 = input('Would you like to see another cocktail recipie? Answer \"N\" to stop searching. ')\n",
        "        time.sleep(0.5)\n",
        "    continue1 = input('Would you like to see another ingredient? Answer \"N\" to stop searching. ')\n",
        "    time.sleep(0.5)\n",
        "\n",
        "sys.exit('Have a great time!')"
      ],
      "metadata": {
        "colab": {
          "base_uri": "https://localhost:8080/",
          "height": 630
        },
        "id": "7OXxGvOVsDvo",
        "outputId": "f17d248e-6eb9-453a-9f4a-71f405838981"
      },
      "execution_count": 22,
      "outputs": [
        {
          "name": "stdout",
          "output_type": "stream",
          "text": [
            "What would you like to make your cocktail with? orange\n",
            "Abbey Cocktail\n",
            "Bleeding Surgeon\n",
            "Caribbean Orange Liqueur\n",
            "Mango Orange Smoothie\n",
            "Which cocktail would you like to see the recipe for? Caribbean Orange Liqueur\n",
            "What language would you like for the instructions to be written in? English/Spanish/German/French/Italian English\n",
            "Ingredients: \n",
            "Orange\n",
            "Vodka\n",
            "Sugar\n",
            "Instructions: \n",
            "Pare very thinly the bright-colored rind from the oranges (no white). Blot the peel on paper towels to remove any excess oil. Put peel in a 4 cup screw-top jar. Add 2 cups vodka. Close jar. Store in a cool, dark place for 2 days or until the vodka has absorbed the flavor. Remove peel and add remaining vodka. Close jar and add remaining cup of vodka. Close the jar and store in a cool dark place at least 1 month to age.\n",
            "Would you like to save the recipie into a text file? Answer \"Y\" to save. Y\n",
            "Would you like to see another cocktail recipie? Answer \"N\" to stop searching. N\n",
            "Would you like to see another ingredient? Answer \"N\" to stop searching. apple\n",
            "What would you like to make your cocktail with? apple\n",
            "Apple Berry Smoothie\n",
            "Which cocktail would you like to see the recipe for? Apple Berry Smoothie\n",
            "What language would you like for the instructions to be written in? English/Spanish/German/French/Italian English\n",
            "Ingredients: \n",
            "Berries\n",
            "Apple\n",
            "Instructions: \n",
            "Throw everything into a blender and liquify.\n",
            "Would you like to save the recipie into a text file? Answer \"Y\" to save. Y\n",
            "Would you like to see another cocktail recipie? Answer \"N\" to stop searching. N\n",
            "Would you like to see another ingredient? Answer \"N\" to stop searching. N\n"
          ]
        },
        {
          "output_type": "error",
          "ename": "SystemExit",
          "evalue": "Have a great time!",
          "traceback": [
            "An exception has occurred, use %tb to see the full traceback.\n",
            "\u001b[0;31mSystemExit\u001b[0m\u001b[0;31m:\u001b[0m Have a great time!\n"
          ]
        },
        {
          "output_type": "stream",
          "name": "stderr",
          "text": [
            "/usr/local/lib/python3.10/dist-packages/IPython/core/interactiveshell.py:3561: UserWarning: To exit: use 'exit', 'quit', or Ctrl-D.\n",
            "  warn(\"To exit: use 'exit', 'quit', or Ctrl-D.\", stacklevel=1)\n"
          ]
        }
      ]
    }
  ]
}
